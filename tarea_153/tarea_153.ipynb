{
 "cells": [
  {
   "cell_type": "markdown",
   "metadata": {},
   "source": [
    "### Práctica hiperparámetros y validación cruzada"
   ]
  },
  {
   "cell_type": "code",
   "execution_count": 31,
   "metadata": {},
   "outputs": [],
   "source": [
    "import pandas as pd\n",
    "from sklearn.model_selection import train_test_split\n",
    "from sklearn.model_selection import GridSearchCV\n",
    "from sklearn.svm import SVC\n",
    "from sklearn.ensemble import RandomForestClassifier as rf"
   ]
  },
  {
   "cell_type": "code",
   "execution_count": 32,
   "metadata": {},
   "outputs": [
    {
     "name": "stdout",
     "output_type": "stream",
     "text": [
      "200\n"
     ]
    }
   ],
   "source": [
    "# cargar datos\n",
    "df = pd.read_csv(\"ejemplo_dataset.csv\")\n",
    "print(len(df))\n",
    "# train/test\n",
    "X = df.drop(columns = 'y')\n",
    "y = df['y']\n",
    "X_train, X_test, y_train, y_test = train_test_split(X, y.values.reshape(-1,1), train_size = 0.8, random_state = 1234)"
   ]
  },
  {
   "cell_type": "code",
   "execution_count": 33,
   "metadata": {},
   "outputs": [
    {
     "name": "stdout",
     "output_type": "stream",
     "text": [
      "Los mejores parámetros para el modelo SVC son:\n",
      "    C = 2\n",
      "    kernel = rbf\n"
     ]
    },
    {
     "name": "stderr",
     "output_type": "stream",
     "text": [
      "c:\\Users\\eroteta\\AppData\\Local\\Programs\\Python\\Python311\\Lib\\site-packages\\sklearn\\utils\\validation.py:1143: DataConversionWarning: A column-vector y was passed when a 1d array was expected. Please change the shape of y to (n_samples, ), for example using ravel().\n",
      "  y = column_or_1d(y, warn=True)\n"
     ]
    },
    {
     "name": "stdout",
     "output_type": "stream",
     "text": [
      "Los mejores parámetros para el modelo RF son:\n",
      "    n_estimators = 200\n",
      "    max_features = 0.33\n",
      "    min_samples_leaf = 3\n"
     ]
    },
    {
     "name": "stderr",
     "output_type": "stream",
     "text": [
      "c:\\Users\\eroteta\\AppData\\Local\\Programs\\Python\\Python311\\Lib\\site-packages\\sklearn\\model_selection\\_search.py:909: DataConversionWarning: A column-vector y was passed when a 1d array was expected. Please change the shape of y to (n_samples,), for example using ravel().\n",
      "  self.best_estimator_.fit(X, y, **fit_params)\n"
     ]
    }
   ],
   "source": [
    "# hiperparámetros para ambos clasificadores\n",
    "rf_hyperparameters = {\n",
    "    'n_estimators': [50, 100, 150, 200],\n",
    "    'max_features': ['auto', 'sqrt', 0.33],\n",
    "    'min_samples_leaf': [1, 2, 3, 5, 10]\n",
    "}\n",
    "svc_hyperparameters = {\n",
    "    'C': [0.5, 1, 2],\n",
    "    'kernel': ['linear', 'poly', 'rbf']\n",
    "}\n",
    "\n",
    "# encontrar mejores hiperparámetros para un modelo SVC\n",
    "model = GridSearchCV(estimator=SVC(), param_grid=svc_hyperparameters, cv=5, n_jobs=-1)\n",
    "model.fit(X_train, y_train)\n",
    "hyperparameters = model.best_params_\n",
    "print('Los mejores parámetros para el modelo SVC son:')\n",
    "print('    C =', hyperparameters['C'])\n",
    "print('    kernel =', hyperparameters['kernel'])\n",
    "\n",
    "# encontrar mejores hiperparámetros para un modelo SVC\n",
    "model = GridSearchCV(estimator=rf(), param_grid=rf_hyperparameters, cv=5, n_jobs=-1)\n",
    "model.fit(X_train, y_train)\n",
    "hyperparameters = model.best_params_\n",
    "print('Los mejores parámetros para el modelo RF son:')\n",
    "print('    n_estimators =', hyperparameters['n_estimators'])\n",
    "print('    max_features =', hyperparameters['max_features'])\n",
    "print('    min_samples_leaf =', hyperparameters['min_samples_leaf'])"
   ]
  }
 ],
 "metadata": {
  "kernelspec": {
   "display_name": "Python 3",
   "language": "python",
   "name": "python3"
  },
  "language_info": {
   "codemirror_mode": {
    "name": "ipython",
    "version": 3
   },
   "file_extension": ".py",
   "mimetype": "text/x-python",
   "name": "python",
   "nbconvert_exporter": "python",
   "pygments_lexer": "ipython3",
   "version": "3.11.2"
  }
 },
 "nbformat": 4,
 "nbformat_minor": 4
}
